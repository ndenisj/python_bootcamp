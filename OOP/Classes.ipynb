{
 "cells": [
  {
   "cell_type": "code",
   "execution_count": 27,
   "metadata": {},
   "outputs": [],
   "source": [
    "class Car():\n",
    "\n",
    "    def __init__(self, color, speed=100):\n",
    "        self.color = color\n",
    "        self.speed = speed\n",
    "        \n",
    "        \n",
    "    def drive(self):\n",
    "        print(f\"This car can drive and the color is {self.color}\")\n",
    "        \n",
    "        \n",
    "    def spedometer(self):\n",
    "        print(f'The speed of this car is {self.speed}')"
   ]
  },
  {
   "cell_type": "code",
   "execution_count": 29,
   "metadata": {},
   "outputs": [],
   "source": [
    "benz_gls = Car('Brown')\n",
    "benz_cls = Car('Red', 200)\n",
    "benz_gwag = Car('Black', 500)"
   ]
  },
  {
   "cell_type": "code",
   "execution_count": 30,
   "metadata": {},
   "outputs": [
    {
     "name": "stdout",
     "output_type": "stream",
     "text": [
      "This car can drive and the color is Brown\n"
     ]
    }
   ],
   "source": [
    "benz_gls.drive()"
   ]
  },
  {
   "cell_type": "code",
   "execution_count": 31,
   "metadata": {},
   "outputs": [
    {
     "name": "stdout",
     "output_type": "stream",
     "text": [
      "This car can drive and the color is Red\n"
     ]
    }
   ],
   "source": [
    "benz_cls.drive()"
   ]
  },
  {
   "cell_type": "code",
   "execution_count": 32,
   "metadata": {},
   "outputs": [
    {
     "name": "stdout",
     "output_type": "stream",
     "text": [
      "The speed of this car is 100\n"
     ]
    }
   ],
   "source": [
    "benz_gls.spedometer()"
   ]
  },
  {
   "cell_type": "code",
   "execution_count": 34,
   "metadata": {},
   "outputs": [
    {
     "name": "stdout",
     "output_type": "stream",
     "text": [
      "This car can drive and the color is Black\n"
     ]
    }
   ],
   "source": [
    "benz_gwag.drive()"
   ]
  },
  {
   "cell_type": "code",
   "execution_count": 3,
   "metadata": {},
   "outputs": [
    {
     "data": {
      "text/plain": [
       "__main__.Car"
      ]
     },
     "execution_count": 3,
     "metadata": {},
     "output_type": "execute_result"
    }
   ],
   "source": [
    "type(benz_gls)"
   ]
  },
  {
   "cell_type": "markdown",
   "metadata": {},
   "source": [
    "### INHERITANCE"
   ]
  },
  {
   "cell_type": "markdown",
   "metadata": {},
   "source": [
    "###### Dog and Cat inherit from Animal class and override the eat method completely and also called the constructor of the Base class (Animal class) from thier own constructor"
   ]
  },
  {
   "cell_type": "code",
   "execution_count": 83,
   "metadata": {},
   "outputs": [],
   "source": [
    "class Animal():\n",
    "    \n",
    "    def __init__(self, name):\n",
    "        self.name = name\n",
    "        print('I am an animal my name is {}'.format(self.name))\n",
    "        \n",
    "    def eat(self):\n",
    "        print('I can eat')\n",
    "        \n",
    "    def reproduction(self):\n",
    "        print('All animals reproduce young once')\n",
    "        \n",
    "        \n",
    "\n",
    "class Dog(Animal):\n",
    "    \n",
    "    def __init__(self):\n",
    "        Animal.__init__(self, 'Dog')\n",
    "        \n",
    "    def eat(self):\n",
    "        print('But i eat Bones!!!')\n",
    "        \n",
    "        \n",
    "class Cat(Animal):\n",
    "    \n",
    "    def __init__(self):\n",
    "        Animal.__init__(self, 'Cat')\n",
    "        \n",
    "    def eat(self):\n",
    "        print('But i eat Fish!!!')"
   ]
  },
  {
   "cell_type": "markdown",
   "metadata": {},
   "source": [
    "###### The override the eat method from the base class partially"
   ]
  },
  {
   "cell_type": "code",
   "execution_count": 89,
   "metadata": {},
   "outputs": [],
   "source": [
    "class Animal():\n",
    "    \n",
    "    def __init__(self, name):\n",
    "        self.name = name\n",
    "        print('I am an animal my name is {}'.format(self.name))\n",
    "        \n",
    "    def eat(self):\n",
    "        print('I can eat')\n",
    "        \n",
    "    def reproduction(self):\n",
    "        print('All animals reproduce young once')\n",
    "        \n",
    "        \n",
    "\n",
    "class Dog(Animal):\n",
    "    \n",
    "    def __init__(self):\n",
    "        Animal.__init__(self, 'Dog')\n",
    "        \n",
    "    def eat(self):\n",
    "        Animal.eat(self)\n",
    "        print('But i eat Bones!!!')\n",
    "        \n",
    "        \n",
    "class Cat(Animal):\n",
    "    \n",
    "    def __init__(self):\n",
    "        Animal.__init__(self, 'Cat')\n",
    "        \n",
    "    def eat(self):\n",
    "        Animal.eat(self)\n",
    "        print('But i eat Fish!!!')"
   ]
  },
  {
   "cell_type": "code",
   "execution_count": 90,
   "metadata": {},
   "outputs": [
    {
     "name": "stdout",
     "output_type": "stream",
     "text": [
      "I am an animal my name is Dog\n",
      "I am an animal my name is Cat\n"
     ]
    }
   ],
   "source": [
    "frankie = Dog()\n",
    "sammy = Cat()"
   ]
  },
  {
   "cell_type": "code",
   "execution_count": 91,
   "metadata": {},
   "outputs": [
    {
     "name": "stdout",
     "output_type": "stream",
     "text": [
      "I can eat\n",
      "But i eat Bones!!!\n",
      "I can eat\n",
      "But i eat Fish!!!\n"
     ]
    }
   ],
   "source": [
    "frankie.eat()\n",
    "sammy.eat()"
   ]
  },
  {
   "cell_type": "code",
   "execution_count": null,
   "metadata": {},
   "outputs": [],
   "source": []
  }
 ],
 "metadata": {
  "kernelspec": {
   "display_name": "Python 3",
   "language": "python",
   "name": "python3"
  },
  "language_info": {
   "codemirror_mode": {
    "name": "ipython",
    "version": 3
   },
   "file_extension": ".py",
   "mimetype": "text/x-python",
   "name": "python",
   "nbconvert_exporter": "python",
   "pygments_lexer": "ipython3",
   "version": "3.7.4"
  }
 },
 "nbformat": 4,
 "nbformat_minor": 2
}
