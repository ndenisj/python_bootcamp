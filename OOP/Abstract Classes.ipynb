{
 "cells": [
  {
   "cell_type": "markdown",
   "metadata": {},
   "source": [
    "#### Abstract Classes\n",
    "An abstract class contains methods that have NO body/implementation"
   ]
  },
  {
   "cell_type": "code",
   "execution_count": 20,
   "metadata": {},
   "outputs": [],
   "source": [
    "class TeacherRoles():\n",
    "    \n",
    "    def login(self):\n",
    "        raise NotImplementedError('You must implement this method')\n",
    "    \n",
    "    def attendance(self):\n",
    "        raise NotImplementedError('You must implement this method')\n",
    "    \n",
    "    \n",
    "class Teacher(TeacherRoles):\n",
    "    \n",
    "    def __init__(self):\n",
    "        pass\n",
    "        \n",
    "    def login(self):\n",
    "        username = input('Enter Your username')\n",
    "        pwd = input('Enter your Password')\n",
    "        \n",
    "        if username == 'dj' and pwd == '1234':\n",
    "            self.attendance()\n",
    "        else:\n",
    "            print('Incorrect Password or username')\n",
    "    \n",
    "    def attendance(self):\n",
    "        print('You can start marking attendance!!!')"
   ]
  },
  {
   "cell_type": "code",
   "execution_count": 21,
   "metadata": {},
   "outputs": [],
   "source": [
    "mary = Teacher()"
   ]
  },
  {
   "cell_type": "code",
   "execution_count": 22,
   "metadata": {},
   "outputs": [
    {
     "name": "stdout",
     "output_type": "stream",
     "text": [
      "Enter Your usernamedj\n",
      "Enter your Password1234\n",
      "You can start marking attendance!!!\n"
     ]
    }
   ],
   "source": [
    "mary.login()"
   ]
  },
  {
   "cell_type": "code",
   "execution_count": null,
   "metadata": {},
   "outputs": [],
   "source": []
  }
 ],
 "metadata": {
  "kernelspec": {
   "display_name": "Python 3",
   "language": "python",
   "name": "python3"
  },
  "language_info": {
   "codemirror_mode": {
    "name": "ipython",
    "version": 3
   },
   "file_extension": ".py",
   "mimetype": "text/x-python",
   "name": "python",
   "nbconvert_exporter": "python",
   "pygments_lexer": "ipython3",
   "version": "3.7.4"
  }
 },
 "nbformat": 4,
 "nbformat_minor": 2
}
