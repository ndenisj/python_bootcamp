{
 "cells": [
  {
   "cell_type": "code",
   "execution_count": 1,
   "metadata": {},
   "outputs": [
    {
     "name": "stdout",
     "output_type": "stream",
     "text": [
      "Writing myfile.txt\n"
     ]
    }
   ],
   "source": [
    "%%writefile myfile.txt\n",
    "This is my file first line\n",
    "This is the second line\n",
    "This is the third line"
   ]
  },
  {
   "cell_type": "code",
   "execution_count": 3,
   "metadata": {},
   "outputs": [],
   "source": [
    "my_file = open('myfile.txt')"
   ]
  },
  {
   "cell_type": "code",
   "execution_count": 5,
   "metadata": {},
   "outputs": [
    {
     "data": {
      "text/plain": [
       "'This is my file first line\\nThis is the second line\\nThis is the third line\\n'"
      ]
     },
     "execution_count": 5,
     "metadata": {},
     "output_type": "execute_result"
    }
   ],
   "source": [
    "my_file.read()"
   ]
  },
  {
   "cell_type": "code",
   "execution_count": 6,
   "metadata": {},
   "outputs": [
    {
     "data": {
      "text/plain": [
       "''"
      ]
     },
     "execution_count": 6,
     "metadata": {},
     "output_type": "execute_result"
    }
   ],
   "source": [
    "my_file.read()"
   ]
  },
  {
   "cell_type": "code",
   "execution_count": 7,
   "metadata": {},
   "outputs": [
    {
     "data": {
      "text/plain": [
       "0"
      ]
     },
     "execution_count": 7,
     "metadata": {},
     "output_type": "execute_result"
    }
   ],
   "source": [
    "my_file.seek(0)"
   ]
  },
  {
   "cell_type": "code",
   "execution_count": 8,
   "metadata": {},
   "outputs": [
    {
     "data": {
      "text/plain": [
       "'This is my file first line\\nThis is the second line\\nThis is the third line\\n'"
      ]
     },
     "execution_count": 8,
     "metadata": {},
     "output_type": "execute_result"
    }
   ],
   "source": [
    "my_file.read()"
   ]
  },
  {
   "cell_type": "code",
   "execution_count": 10,
   "metadata": {},
   "outputs": [
    {
     "data": {
      "text/plain": [
       "10"
      ]
     },
     "execution_count": 10,
     "metadata": {},
     "output_type": "execute_result"
    }
   ],
   "source": [
    "my_file.seek(10)"
   ]
  },
  {
   "cell_type": "code",
   "execution_count": 11,
   "metadata": {},
   "outputs": [
    {
     "data": {
      "text/plain": [
       "' file first line\\nThis is the second line\\nThis is the third line\\n'"
      ]
     },
     "execution_count": 11,
     "metadata": {},
     "output_type": "execute_result"
    }
   ],
   "source": [
    "my_file.read()"
   ]
  },
  {
   "cell_type": "code",
   "execution_count": 12,
   "metadata": {},
   "outputs": [],
   "source": [
    "my_file.close()"
   ]
  },
  {
   "cell_type": "code",
   "execution_count": 14,
   "metadata": {},
   "outputs": [
    {
     "name": "stdout",
     "output_type": "stream",
     "text": [
      "This is my file first line\n",
      "This is the second line\n",
      "This is the third line\n",
      "\n"
     ]
    }
   ],
   "source": [
    "with open('myfile.txt') as f:\n",
    "    print(f.read())"
   ]
  },
  {
   "cell_type": "code",
   "execution_count": 29,
   "metadata": {},
   "outputs": [],
   "source": [
    "with open('myfile2.txt', mode='w') as f:\n",
    "    f.writelines('This is my new file\\nI am proud of it')"
   ]
  },
  {
   "cell_type": "code",
   "execution_count": 30,
   "metadata": {},
   "outputs": [
    {
     "name": "stdout",
     "output_type": "stream",
     "text": [
      "This is my new file\n",
      "I am proud of it\n"
     ]
    }
   ],
   "source": [
    "with open('myfile2.txt', mode='r') as f:\n",
    "    print(f.read())"
   ]
  },
  {
   "cell_type": "code",
   "execution_count": 31,
   "metadata": {},
   "outputs": [
    {
     "data": {
      "text/plain": [
       "'C:\\\\Users\\\\Denis John\\\\Desktop\\\\P_CLASS\\\\Class\\\\Objects_and _Data_structure_Basics'"
      ]
     },
     "execution_count": 31,
     "metadata": {},
     "output_type": "execute_result"
    }
   ],
   "source": [
    "pwd"
   ]
  },
  {
   "cell_type": "code",
   "execution_count": 37,
   "metadata": {},
   "outputs": [],
   "source": [
    "with open('C:\\\\Users\\\\Denis John\\\\Desktop\\\\my_new_file.txt', mode='w') as f:\n",
    "     f.writelines('This is my new file content')"
   ]
  },
  {
   "cell_type": "code",
   "execution_count": 39,
   "metadata": {},
   "outputs": [
    {
     "name": "stdout",
     "output_type": "stream",
     "text": [
      "0. Images\n",
      "1. Containers\n",
      "2. Padding & Margin\n",
      "3. Row\n",
      "4. Column\n",
      "5. Outline shortcut\n",
      "6. Expanded\n",
      "7. ID card - Project 1\n",
      "8. Refactor\n",
      "9. Stateful Widget\n",
      "10. List of data - Project 2\n",
      "11. Custom classes\n",
      "12. Custom Widget\n",
      "13. Extracting widget (More refactoring)\n",
      "14. Functions as parameters\n",
      "15. World time - project 3\n",
      "16. Routing (Using maps{})\n",
      "17. Lifecycle\n",
      "18. Asynchronous Code\n",
      "19. Flutter packages(http)\n"
     ]
    }
   ],
   "source": [
    "with open('C:\\\\Users\\\\Denis John\\\\Desktop\\\\fff.txt', mode='r') as f:\n",
    "     print(f.read())"
   ]
  },
  {
   "cell_type": "code",
   "execution_count": 44,
   "metadata": {},
   "outputs": [
    {
     "data": {
      "text/plain": [
       "['19. Flutter packages(http)',\n",
       " '18. Asynchronous Code\\n',\n",
       " '17. Lifecycle\\n',\n",
       " '16. Routing (Using maps{})\\n',\n",
       " '15. World time - project 3\\n',\n",
       " '14. Functions as parameters\\n',\n",
       " '13. Extracting widget (More refactoring)\\n',\n",
       " '12. Custom Widget\\n',\n",
       " '11. Custom classes\\n',\n",
       " '10. List of data - Project 2\\n',\n",
       " '9. Stateful Widget\\n',\n",
       " '8. Refactor\\n',\n",
       " '7. ID card - Project 1\\n',\n",
       " '6. Expanded\\n',\n",
       " '5. Outline shortcut\\n',\n",
       " '4. Column\\n',\n",
       " '3. Row\\n',\n",
       " '2. Padding & Margin\\n',\n",
       " '1. Containers\\n',\n",
       " '0. Images\\n']"
      ]
     },
     "execution_count": 44,
     "metadata": {},
     "output_type": "execute_result"
    }
   ],
   "source": [
    "with open('C:\\\\Users\\\\Denis John\\\\Desktop\\\\fff.txt', mode='r') as f:\n",
    "     content = f.readlines()\n",
    "        \n",
    "content[::-1]"
   ]
  },
  {
   "cell_type": "code",
   "execution_count": 45,
   "metadata": {},
   "outputs": [],
   "source": [
    "with open('C:\\\\Users\\\\Denis John\\\\Desktop\\\\fff.txt', mode='r') as f:\n",
    "     content = f.readlines()\n",
    "        \n",
    "content[9] = 'This is a new project'"
   ]
  },
  {
   "cell_type": "code",
   "execution_count": 46,
   "metadata": {},
   "outputs": [
    {
     "data": {
      "text/plain": [
       "['0. Images\\n',\n",
       " '1. Containers\\n',\n",
       " '2. Padding & Margin\\n',\n",
       " '3. Row\\n',\n",
       " '4. Column\\n',\n",
       " '5. Outline shortcut\\n',\n",
       " '6. Expanded\\n',\n",
       " '7. ID card - Project 1\\n',\n",
       " '8. Refactor\\n',\n",
       " 'This is a new project',\n",
       " '10. List of data - Project 2\\n',\n",
       " '11. Custom classes\\n',\n",
       " '12. Custom Widget\\n',\n",
       " '13. Extracting widget (More refactoring)\\n',\n",
       " '14. Functions as parameters\\n',\n",
       " '15. World time - project 3\\n',\n",
       " '16. Routing (Using maps{})\\n',\n",
       " '17. Lifecycle\\n',\n",
       " '18. Asynchronous Code\\n',\n",
       " '19. Flutter packages(http)']"
      ]
     },
     "execution_count": 46,
     "metadata": {},
     "output_type": "execute_result"
    }
   ],
   "source": [
    "content"
   ]
  },
  {
   "cell_type": "code",
   "execution_count": null,
   "metadata": {},
   "outputs": [],
   "source": []
  }
 ],
 "metadata": {
  "kernelspec": {
   "display_name": "Python 3",
   "language": "python",
   "name": "python3"
  },
  "language_info": {
   "codemirror_mode": {
    "name": "ipython",
    "version": 3
   },
   "file_extension": ".py",
   "mimetype": "text/x-python",
   "name": "python",
   "nbconvert_exporter": "python",
   "pygments_lexer": "ipython3",
   "version": "3.7.4"
  }
 },
 "nbformat": 4,
 "nbformat_minor": 2
}
